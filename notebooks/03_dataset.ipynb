{
 "cells": [
  {
   "cell_type": "code",
   "execution_count": 2,
   "metadata": {},
   "outputs": [],
   "source": [
    "import sys\n",
    "import os\n",
    "sys.path.append('..')"
   ]
  },
  {
   "cell_type": "code",
   "execution_count": 3,
   "metadata": {},
   "outputs": [],
   "source": [
    "from src.dataset import ImageDataLoader\n",
    "from src import config \n",
    "from src.utils import get_balanced_dataset_sampler, get_train_transform, get_test_transform\n",
    "from sklearn.model_selection import StratifiedKFold\n",
    "from torch.utils.data import DataLoader, Subset\n",
    "import torch\n",
    "from src.metrics import Metrics\n",
    "from pathlib import Path"
   ]
  },
  {
   "cell_type": "code",
   "execution_count": null,
   "metadata": {},
   "outputs": [],
   "source": [
    "train_data_size = []\n",
    "test_data_size = []\n",
    "skfold = StratifiedKFold(n_splits=5, shuffle=True)\n",
    "data_loader = ImageDataLoader('../data/binary/hiper_others/')\n",
    "binary_labels = [sample[1] for sample in data_loader.dataset.samples]\n",
    "for fold, (train_ids, test_ids) in enumerate(skfold.split(data_loader.dataset, binary_labels)):\n",
    "\n",
    "    train_subset = Subset(data_loader.dataset, train_ids)\n",
    "    train_subset.transform = get_train_transform()\n",
    "    sampler = get_balanced_dataset_sampler(data_loader, train_ids, train_subset)\n",
    "    train_loader = DataLoader(train_subset, batch_size=config.BATCH_SIZE, sampler=sampler, num_workers=config.NUM_WORKERS)\n",
    "\n",
    "    test_subset = Subset(data_loader.dataset, test_ids) \n",
    "    test_subset.transform = get_test_transform()\n",
    "    val_loader = DataLoader(test_subset, batch_size=config.BATCH_SIZE, num_workers=config.NUM_WORKERS, shuffle=True )\n",
    "    num_target = 0\n",
    "    num_others = 0\n",
    "    \n",
    "    for epoch in range(1):\n",
    "        for data, labels in train_loader:\n",
    "            num_target += torch.sum(labels == 0)\n",
    "            num_others += torch.sum(labels == 1)\n",
    "\n",
    "    train_data_size.extend([num_target.item(), num_others.item()])\n",
    "    print(num_target.item())\n",
    "    print(num_others.item())\n",
    "    \n",
    "    num_target = 0\n",
    "    num_others = 0\n",
    "    for epoch in range(1):\n",
    "        for data, labels in val_loader:\n",
    "            num_target += torch.sum(labels == 0)\n",
    "            num_others += torch.sum(labels == 1)\n",
    "\n",
    "    test_data_size.extend([num_target.item(), num_others.item()])\n",
    "    print(num_target.item())\n",
    "    print(num_others.item())\n",
    "    break\n",
    "\n"
   ]
  },
  {
   "cell_type": "code",
   "execution_count": null,
   "metadata": {},
   "outputs": [],
   "source": [
    "import matplotlib.pyplot as plt \n",
    "\n",
    "fig = plt.figure(figsize = (4, 3))\n",
    "# creating the bar plot\n",
    "plt.bar(labels, values,\n",
    "        width = 0.4, )\n",
    "\n",
    "plt.xlabel(\"Class\")\n",
    "plt.ylabel(\"quantity\")\n",
    "plt.title(\"Data set distribution\")\n",
    "for index, value in enumerate(values):\n",
    "    plt.text(index,value+0.01, str(value))\n",
    "plt.show()"
   ]
  },
  {
   "cell_type": "code",
   "execution_count": null,
   "metadata": {},
   "outputs": [],
   "source": [
    "metrics_result = Metrics()\n",
    "metrics_result.compute_metrics([1,0,1,0], [1,0,1,1])\n",
    "metrics_result.accuracy"
   ]
  },
  {
   "cell_type": "code",
   "execution_count": 5,
   "metadata": {},
   "outputs": [
    {
     "name": "stdout",
     "output_type": "stream",
     "text": [
      "..\\data\\binary\\podoc_others\\others\n",
      "..\\data\\binary\\podoc_others\\_podocitopatia\n",
      "..\\data\\binary\\podoc_others\\others\\Crescentes\n",
      "..\\data\\binary\\podoc_others\\others\\hipercellularity\n",
      "..\\data\\binary\\podoc_others\\others\\membranous\n",
      "..\\data\\binary\\podoc_others\\others\\normal\n",
      "..\\data\\binary\\podoc_others\\others\\sclerosis\n",
      "..\\data\\binary\\podoc_others\\others\\Crescentes\\AZAN\n",
      "..\\data\\binary\\podoc_others\\others\\Crescentes\\H_E\n",
      "..\\data\\binary\\podoc_others\\others\\Crescentes\\PAMS\n",
      "..\\data\\binary\\podoc_others\\others\\Crescentes\\PAS\n",
      "..\\data\\binary\\podoc_others\\others\\Crescentes\\PICRO\n",
      "..\\data\\binary\\podoc_others\\others\\Crescentes\\PS\n",
      "..\\data\\binary\\podoc_others\\others\\hipercellularity\\AZAN\n",
      "..\\data\\binary\\podoc_others\\others\\hipercellularity\\HE\n",
      "..\\data\\binary\\podoc_others\\others\\hipercellularity\\PAS\n",
      "..\\data\\binary\\podoc_others\\others\\hipercellularity\\PS\n",
      "..\\data\\binary\\podoc_others\\others\\hipercellularity\\PSA\n",
      "..\\data\\binary\\podoc_others\\others\\membranous\\primary_membranous\n",
      "..\\data\\binary\\podoc_others\\others\\membranous\\secondary_membranous\n",
      "..\\data\\binary\\podoc_others\\others\\membranous\\primary_membranous\\AZAN\n",
      "..\\data\\binary\\podoc_others\\others\\membranous\\primary_membranous\\HE\n",
      "..\\data\\binary\\podoc_others\\others\\membranous\\primary_membranous\\PAMS\n",
      "..\\data\\binary\\podoc_others\\others\\membranous\\primary_membranous\\PAS\n",
      "..\\data\\binary\\podoc_others\\others\\membranous\\primary_membranous\\PICRO\n",
      "..\\data\\binary\\podoc_others\\others\\membranous\\secondary_membranous\\AZAN\n",
      "..\\data\\binary\\podoc_others\\others\\membranous\\secondary_membranous\\HE\n",
      "..\\data\\binary\\podoc_others\\others\\membranous\\secondary_membranous\\PAMS\n",
      "..\\data\\binary\\podoc_others\\others\\membranous\\secondary_membranous\\PAS\n",
      "..\\data\\binary\\podoc_others\\others\\membranous\\secondary_membranous\\PICRO\n",
      "..\\data\\binary\\podoc_others\\others\\normal\\AZAN\n",
      "..\\data\\binary\\podoc_others\\others\\normal\\HE\n",
      "..\\data\\binary\\podoc_others\\others\\normal\\PAMS\n",
      "..\\data\\binary\\podoc_others\\others\\normal\\PAS\n",
      "..\\data\\binary\\podoc_others\\others\\normal\\PICRO\n",
      "..\\data\\binary\\podoc_others\\others\\sclerosis\\sclerosis\n",
      "..\\data\\binary\\podoc_others\\others\\sclerosis\\sclerosis_withoutMemb\n",
      "..\\data\\binary\\podoc_others\\others\\sclerosis\\sclerosis\\HE\n",
      "..\\data\\binary\\podoc_others\\others\\sclerosis\\sclerosis\\PAMS\n",
      "..\\data\\binary\\podoc_others\\others\\sclerosis\\sclerosis\\PAS\n",
      "..\\data\\binary\\podoc_others\\others\\sclerosis\\sclerosis_withoutMemb\\AZAN\n",
      "..\\data\\binary\\podoc_others\\others\\sclerosis\\sclerosis_withoutMemb\\HE\n",
      "..\\data\\binary\\podoc_others\\others\\sclerosis\\sclerosis_withoutMemb\\PAMS\n",
      "..\\data\\binary\\podoc_others\\others\\sclerosis\\sclerosis_withoutMemb\\PAS\n",
      "..\\data\\binary\\podoc_others\\others\\sclerosis\\sclerosis_withoutMemb\\PS\n",
      "..\\data\\binary\\podoc_others\\_podocitopatia\\With\n",
      "..\\data\\binary\\podoc_others\\_podocitopatia\\With\\AZAN\n",
      "..\\data\\binary\\podoc_others\\_podocitopatia\\With\\HE\n",
      "..\\data\\binary\\podoc_others\\_podocitopatia\\With\\PAMS\n",
      "..\\data\\binary\\podoc_others\\_podocitopatia\\With\\PAS\n",
      "..\\data\\binary\\podoc_others\\_podocitopatia\\With\\PICRO\n"
     ]
    }
   ],
   "source": [
    "def get_subfolder_paths(directory):\n",
    "    directory = Path(directory)\n",
    "    subfolder_paths = []\n",
    "    \n",
    "    for path in directory.rglob('*'):\n",
    "        if path.is_dir():\n",
    "            subfolder_paths.append(path)\n",
    "    \n",
    "    return subfolder_paths\n",
    "\n",
    "# Example usage\n",
    "directory_path = '../data/binary/podoc_others/'\n",
    "subfolders = get_subfolder_paths(directory_path)\n",
    "\n",
    "# Print the subfolder paths\n",
    "for subfolder in subfolders:\n",
    "    print(subfolder)"
   ]
  },
  {
   "cell_type": "code",
   "execution_count": null,
   "metadata": {},
   "outputs": [],
   "source": [
    "\n",
    "\n"
   ]
  }
 ],
 "metadata": {
  "kernelspec": {
   "display_name": "Python 3",
   "language": "python",
   "name": "python3"
  },
  "language_info": {
   "codemirror_mode": {
    "name": "ipython",
    "version": 3
   },
   "file_extension": ".py",
   "mimetype": "text/x-python",
   "name": "python",
   "nbconvert_exporter": "python",
   "pygments_lexer": "ipython3",
   "version": "3.10.4"
  },
  "orig_nbformat": 4
 },
 "nbformat": 4,
 "nbformat_minor": 2
}
