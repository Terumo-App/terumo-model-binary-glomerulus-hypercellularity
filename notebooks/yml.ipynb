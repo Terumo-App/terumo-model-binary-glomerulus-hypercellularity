{
 "cells": [
  {
   "cell_type": "code",
   "execution_count": 11,
   "metadata": {},
   "outputs": [],
   "source": [
    "import yaml\n",
    "\n",
    "def load_training_parameters(filename):\n",
    "    with open(filename, 'r') as file:\n",
    "        params = yaml.safe_load(file)\n",
    "    return params"
   ]
  },
  {
   "cell_type": "code",
   "execution_count": 17,
   "metadata": {},
   "outputs": [],
   "source": [
    "filename = '../config/default.yaml'\n",
    "params = load_training_parameters(filename)"
   ]
  },
  {
   "cell_type": "code",
   "execution_count": 18,
   "metadata": {},
   "outputs": [
    {
     "name": "stdout",
     "output_type": "stream",
     "text": [
      "project: sex-estimation\n",
      "entity: ivision-radiographs\n",
      "seed: 42\n",
      "num_workers: 0\n",
      "batch_size: 128\n",
      "pin_memory: True\n",
      "load_model: False\n",
      "checkpoint_to_be_loaded: ./artifacts/model/my_checkpoint.pth.tar\n",
      "learning_rate: 1e-4\n",
      "num_epochs: 100\n",
      "wandb_on: False\n",
      "model_name: hiper_normal\n",
      "data_dir: ./data/binary/hiper_normal/\n"
     ]
    }
   ],
   "source": [
    "for key in params.keys():\n",
    "    print(f'{key}: {params[key]}')"
   ]
  },
  {
   "cell_type": "code",
   "execution_count": 23,
   "metadata": {},
   "outputs": [
    {
     "data": {
      "text/plain": [
       "{'project': 'sex-estimation',\n",
       " 'entity': 'ivision-radiographs',\n",
       " 'seed': 42,\n",
       " 'num_workers': 0,\n",
       " 'batch_size': 128,\n",
       " 'pin_memory': True,\n",
       " 'load_model': False,\n",
       " 'checkpoint_to_be_loaded': './artifacts/model/my_checkpoint.pth.tar',\n",
       " 'learning_rate': '1e-4',\n",
       " 'num_epochs': 100,\n",
       " 'wandb_on': False,\n",
       " 'model_name': 'hiper_normal',\n",
       " 'data_dir': './data/binary/hiper_normal/'}"
      ]
     },
     "execution_count": 23,
     "metadata": {},
     "output_type": "execute_result"
    }
   ],
   "source": [
    "params"
   ]
  },
  {
   "cell_type": "code",
   "execution_count": 25,
   "metadata": {},
   "outputs": [],
   "source": [
    "a, a, _, _ = 4, 5, 3, 5"
   ]
  }
 ],
 "metadata": {
  "kernelspec": {
   "display_name": "Python 3",
   "language": "python",
   "name": "python3"
  },
  "language_info": {
   "codemirror_mode": {
    "name": "ipython",
    "version": 3
   },
   "file_extension": ".py",
   "mimetype": "text/x-python",
   "name": "python",
   "nbconvert_exporter": "python",
   "pygments_lexer": "ipython3",
   "version": "3.10.4"
  },
  "orig_nbformat": 4
 },
 "nbformat": 4,
 "nbformat_minor": 2
}
