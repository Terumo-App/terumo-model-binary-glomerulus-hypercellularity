{
 "cells": [
  {
   "cell_type": "code",
   "execution_count": 6,
   "metadata": {},
   "outputs": [
    {
     "data": {
      "text/plain": [
       "[]"
      ]
     },
     "execution_count": 6,
     "metadata": {},
     "output_type": "execute_result"
    }
   ],
   "source": [
    "import tensorflow as tf\n",
    "tf.config.list_physical_devices('GPU')"
   ]
  },
  {
   "cell_type": "code",
   "execution_count": 3,
   "metadata": {},
   "outputs": [
    {
     "data": {
      "text/plain": [
       "'2.9.1'"
      ]
     },
     "execution_count": 3,
     "metadata": {},
     "output_type": "execute_result"
    }
   ],
   "source": [
    "tf. __version__"
   ]
  },
  {
   "cell_type": "code",
   "execution_count": 2,
   "metadata": {},
   "outputs": [
    {
     "name": "stdout",
     "output_type": "stream",
     "text": [
      "WARNING:tensorflow:From C:\\Users\\Maods\\AppData\\Local\\Temp\\ipykernel_96636\\4723994.py:1: is_gpu_available (from tensorflow.python.framework.test_util) is deprecated and will be removed in a future version.\n",
      "Instructions for updating:\n",
      "Use `tf.config.list_physical_devices('GPU')` instead.\n"
     ]
    },
    {
     "data": {
      "text/plain": [
       "False"
      ]
     },
     "execution_count": 2,
     "metadata": {},
     "output_type": "execute_result"
    }
   ],
   "source": [
    "tf.test.is_gpu_available(cuda_only=True)"
   ]
  },
  {
   "cell_type": "code",
   "execution_count": 4,
   "metadata": {},
   "outputs": [],
   "source": [
    "import torch"
   ]
  },
  {
   "cell_type": "code",
   "execution_count": 5,
   "metadata": {},
   "outputs": [
    {
     "data": {
      "text/plain": [
       "True"
      ]
     },
     "execution_count": 5,
     "metadata": {},
     "output_type": "execute_result"
    }
   ],
   "source": [
    "torch.cuda.is_available()"
   ]
  },
  {
   "cell_type": "code",
   "execution_count": 4,
   "metadata": {},
   "outputs": [
    {
     "name": "stdout",
     "output_type": "stream",
     "text": [
      "Tue May  9 23:53:30 2023       \n",
      "+-----------------------------------------------------------------------------+\n",
      "| NVIDIA-SMI 528.49       Driver Version: 528.49       CUDA Version: 12.0     |\n",
      "|-------------------------------+----------------------+----------------------+\n",
      "| GPU  Name            TCC/WDDM | Bus-Id        Disp.A | Volatile Uncorr. ECC |\n",
      "| Fan  Temp  Perf  Pwr:Usage/Cap|         Memory-Usage | GPU-Util  Compute M. |\n",
      "|                               |                      |               MIG M. |\n",
      "|===============================+======================+======================|\n",
      "|   0  NVIDIA GeForce ... WDDM  | 00000000:01:00.0  On |                  N/A |\n",
      "| N/A   55C    P8    14W / 115W |    716MiB /  8192MiB |      8%      Default |\n",
      "|                               |                      |                  N/A |\n",
      "+-------------------------------+----------------------+----------------------+\n",
      "                                                                               \n",
      "+-----------------------------------------------------------------------------+\n",
      "| Processes:                                                                  |\n",
      "|  GPU   GI   CI        PID   Type   Process name                  GPU Memory |\n",
      "|        ID   ID                                                   Usage      |\n",
      "|=============================================================================|\n",
      "|    0   N/A  N/A     10916    C+G   ...n64\\EpicGamesLauncher.exe    N/A      |\n",
      "|    0   N/A  N/A     17844    C+G   ...cw5n1h2txyewy\\LockApp.exe    N/A      |\n",
      "|    0   N/A  N/A     29628    C+G   C:\\Windows\\explorer.exe         N/A      |\n",
      "|    0   N/A  N/A     29876    C+G   ...oft\\OneDrive\\OneDrive.exe    N/A      |\n",
      "|    0   N/A  N/A     38044    C+G   ..._dt26b99r8h8gj\\RtkUWP.exe    N/A      |\n",
      "|    0   N/A  N/A     83540    C+G   ...774.35\\msedgewebview2.exe    N/A      |\n",
      "|    0   N/A  N/A     85788    C+G   ...icrosoft VS Code\\Code.exe    N/A      |\n",
      "|    0   N/A  N/A     96636      C   ...ersions\\3.10.4\\python.exe    N/A      |\n",
      "+-----------------------------------------------------------------------------+\n"
     ]
    }
   ],
   "source": [
    "!nvidia-smi"
   ]
  },
  {
   "cell_type": "code",
   "execution_count": 9,
   "metadata": {},
   "outputs": [
    {
     "name": "stdout",
     "output_type": "stream",
     "text": [
      "nvcc: NVIDIA (R) Cuda compiler driver\n",
      "Copyright (c) 2005-2021 NVIDIA Corporation\n",
      "Built on Sun_Feb_14_22:08:44_Pacific_Standard_Time_2021\n",
      "Cuda compilation tools, release 11.2, V11.2.152\n",
      "Build cuda_11.2.r11.2/compiler.29618528_0\n"
     ]
    }
   ],
   "source": [
    "!nvcc --version"
   ]
  },
  {
   "cell_type": "code",
   "execution_count": 1,
   "metadata": {},
   "outputs": [
    {
     "name": "stderr",
     "output_type": "stream",
     "text": [
      "'nvcc' n�o � reconhecido como um comando interno\n",
      "ou externo, um programa oper�vel ou um arquivo em lotes.\n"
     ]
    }
   ],
   "source": [
    "!nvcc --version"
   ]
  },
  {
   "cell_type": "code",
   "execution_count": 7,
   "metadata": {},
   "outputs": [
    {
     "name": "stdout",
     "output_type": "stream",
     "text": [
      "Package                      Version\n",
      "---------------------------- ------------\n",
      "absl-py                      1.2.0\n",
      "albumentations               1.3.0\n",
      "appdirs                      1.4.4\n",
      "asttokens                    2.0.8\n",
      "astunparse                   1.6.3\n",
      "autopep8                     1.7.0\n",
      "backcall                     0.2.0\n",
      "beautifulsoup4               4.12.2\n",
      "CacheControl                 0.12.11\n",
      "cachetools                   5.2.0\n",
      "certifi                      2022.6.15\n",
      "cffi                         1.15.1\n",
      "charset-normalizer           2.1.0\n",
      "click                        8.1.3\n",
      "colorama                     0.4.5\n",
      "cryptography                 40.0.1\n",
      "cycler                       0.11.0\n",
      "cytomine-python-client       2.3.3\n",
      "debugpy                      1.6.3\n",
      "decorator                    5.1.1\n",
      "distlib                      0.3.6\n",
      "efficientnet-pytorch         0.7.1\n",
      "entrypoints                  0.4\n",
      "executing                    1.1.1\n",
      "filelock                     3.7.0\n",
      "flatbuffers                  1.12\n",
      "fonttools                    4.34.4\n",
      "frozendict                   2.3.6\n",
      "future                       0.18.3\n",
      "gast                         0.4.0\n",
      "google-auth                  2.9.1\n",
      "google-auth-oauthlib         0.4.6\n",
      "google-pasta                 0.2.0\n",
      "grpcio                       1.47.0\n",
      "h5py                         3.7.0\n",
      "hermione-ml                  0.10.0\n",
      "html5lib                     1.1\n",
      "idna                         3.3\n",
      "imageio                      2.28.1\n",
      "imbalanced-learn             0.9.1\n",
      "imblearn                     0.0\n",
      "ipykernel                    6.16.0\n",
      "ipython                      8.5.0\n",
      "jedi                         0.18.1\n",
      "Jinja2                       3.1.2\n",
      "joblib                       1.1.0\n",
      "jupyter_client               7.3.5\n",
      "jupyter-core                 4.11.1\n",
      "keras                        2.9.0\n",
      "Keras-Preprocessing          1.1.2\n",
      "kiwisolver                   1.4.4\n",
      "lazy_loader                  0.2\n",
      "libclang                     14.0.1\n",
      "lxml                         4.9.2\n",
      "Markdown                     3.4.1\n",
      "MarkupSafe                   2.1.1\n",
      "matplotlib                   3.5.2\n",
      "matplotlib-inline            0.1.6\n",
      "mne                          1.0.3\n",
      "mpmath                       1.3.0\n",
      "msgpack                      1.0.5\n",
      "multitasking                 0.0.11\n",
      "mysql-connector-python       8.0.30\n",
      "nest-asyncio                 1.5.6\n",
      "networkx                     3.1\n",
      "numpy                        1.23.1\n",
      "oauthlib                     3.2.0\n",
      "opencv-python-headless       4.7.0.72\n",
      "opt-einsum                   3.3.0\n",
      "packaging                    21.3\n",
      "pandas                       1.5.2\n",
      "parso                        0.8.3\n",
      "pickleshare                  0.7.5\n",
      "Pillow                       9.2.0\n",
      "pip                          22.1.1\n",
      "pipenv                       2023.3.20\n",
      "platformdirs                 2.5.2\n",
      "pooch                        1.6.0\n",
      "prompt-toolkit               3.0.31\n",
      "protobuf                     3.19.4\n",
      "psutil                       5.9.2\n",
      "pure-eval                    0.2.2\n",
      "pyasn1                       0.4.8\n",
      "pyasn1-modules               0.2.8\n",
      "pycodestyle                  2.9.1\n",
      "pycparser                    2.21\n",
      "pydot                        1.4.2\n",
      "Pygments                     2.13.0\n",
      "pyparsing                    3.0.9\n",
      "python-dateutil              2.8.2\n",
      "pytz                         2022.6\n",
      "PyWavelets                   1.4.1\n",
      "pywin32                      304\n",
      "PyYAML                       6.0\n",
      "pyzmq                        24.0.1\n",
      "qudida                       0.0.4\n",
      "requests                     2.28.1\n",
      "requests-oauthlib            1.3.1\n",
      "requests-toolbelt            0.10.1\n",
      "rsa                          4.9\n",
      "scikit-image                 0.20.0\n",
      "scikit-learn                 1.1.1\n",
      "scipy                        1.8.1\n",
      "setuptools                   67.6.1\n",
      "shapely                      2.0.1\n",
      "six                          1.16.0\n",
      "sklearn                      0.0\n",
      "soupsieve                    2.4\n",
      "stack-data                   0.5.1\n",
      "sympy                        1.11.1\n",
      "tensorboard                  2.9.1\n",
      "tensorboard-data-server      0.6.1\n",
      "tensorboard-plugin-wit       1.8.1\n",
      "tensorflow                   2.9.1\n",
      "tensorflow-estimator         2.9.0\n",
      "tensorflow-io-gcs-filesystem 0.26.0\n",
      "termcolor                    1.1.0\n",
      "threadpoolctl                3.1.0\n",
      "tifffile                     2023.4.12\n",
      "toml                         0.10.2\n",
      "torch                        2.0.1+cu118\n",
      "torchaudio                   2.0.2+cu118\n",
      "torchvision                  0.15.2+cu118\n",
      "tornado                      6.2\n",
      "tqdm                         4.64.0\n",
      "traitlets                    5.4.0\n",
      "typing_extensions            4.3.0\n",
      "urllib3                      1.26.10\n",
      "virtualenv                   20.21.0\n",
      "virtualenv-clone             0.5.7\n",
      "wcwidth                      0.2.5\n",
      "webencodings                 0.5.1\n",
      "Werkzeug                     2.2.0\n",
      "wget                         3.2\n",
      "wheel                        0.37.1\n",
      "wrapt                        1.14.1\n",
      "yfinance                     0.2.14\n"
     ]
    },
    {
     "name": "stderr",
     "output_type": "stream",
     "text": [
      "WARNING: There was an error checking the latest version of pip.\n"
     ]
    }
   ],
   "source": [
    "!pip list"
   ]
  }
 ],
 "metadata": {
  "kernelspec": {
   "display_name": "Python 3",
   "language": "python",
   "name": "python3"
  },
  "language_info": {
   "codemirror_mode": {
    "name": "ipython",
    "version": 3
   },
   "file_extension": ".py",
   "mimetype": "text/x-python",
   "name": "python",
   "nbconvert_exporter": "python",
   "pygments_lexer": "ipython3",
   "version": "3.10.4"
  },
  "orig_nbformat": 4
 },
 "nbformat": 4,
 "nbformat_minor": 2
}
