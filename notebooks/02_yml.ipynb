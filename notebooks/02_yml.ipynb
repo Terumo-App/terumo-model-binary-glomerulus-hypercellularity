{
 "cells": [
  {
   "cell_type": "code",
   "execution_count": 1,
   "metadata": {},
   "outputs": [],
   "source": [
    "import yaml\n",
    "\n",
    "def load_training_parameters(filename):\n",
    "    with open(filename, 'r') as file:\n",
    "        params = yaml.safe_load(file)\n",
    "    return params"
   ]
  },
  {
   "cell_type": "code",
   "execution_count": 3,
   "metadata": {},
   "outputs": [],
   "source": [
    "filename = '../config/test.yaml'\n",
    "params = load_training_parameters(filename)"
   ]
  },
  {
   "cell_type": "code",
   "execution_count": 4,
   "metadata": {},
   "outputs": [
    {
     "name": "stdout",
     "output_type": "stream",
     "text": [
      "project: model-binary-glomerulus-hypercellularity\n",
      "n_folds: 5\n",
      "seed: 42\n",
      "num_workers: 0\n",
      "batch_size: 128\n",
      "pin_memory: True\n",
      "load_model: False\n",
      "checkpoint_to_be_loaded: ./artifacts/model/my_checkpoint.pth.tar\n",
      "learning_rate: 0.0001\n",
      "num_epochs: 20\n",
      "wandb_on: True\n",
      "model_name: hiper_normal_reduced\n",
      "data_dir: ./data/binary/hiper_normal_reduced/\n",
      "classes: ['hipercelularity', 'normal']\n",
      "data_folders: ['..\\\\data\\\\binary\\\\hiper_others\\\\hipercellularity', '..\\\\data\\\\binary\\\\hiper_others\\\\others', '..\\\\data\\\\binary\\\\hiper_others\\\\hipercellularity\\\\AZAN', '..\\\\data\\\\binary\\\\hiper_others\\\\hipercellularity\\\\HE', '..\\\\data\\\\binary\\\\hiper_others\\\\hipercellularity\\\\PAS', '..\\\\data\\\\binary\\\\hiper_others\\\\hipercellularity\\\\PS', '..\\\\data\\\\binary\\\\hiper_others\\\\others\\\\membranous', '..\\\\data\\\\binary\\\\hiper_others\\\\others\\\\normal', '..\\\\data\\\\binary\\\\hiper_others\\\\others\\\\sclerosis', '..\\\\data\\\\binary\\\\hiper_others\\\\others\\\\membranous\\\\primary_membranous', '..\\\\data\\\\binary\\\\hiper_others\\\\others\\\\membranous\\\\primary_membranous\\\\AZAN', '..\\\\data\\\\binary\\\\hiper_others\\\\others\\\\membranous\\\\primary_membranous\\\\HE', '..\\\\data\\\\binary\\\\hiper_others\\\\others\\\\membranous\\\\primary_membranous\\\\PAMS', '..\\\\data\\\\binary\\\\hiper_others\\\\others\\\\membranous\\\\primary_membranous\\\\PAS', '..\\\\data\\\\binary\\\\hiper_others\\\\others\\\\membranous\\\\primary_membranous\\\\PICRO', '..\\\\data\\\\binary\\\\hiper_others\\\\others\\\\normal\\\\AZAN', '..\\\\data\\\\binary\\\\hiper_others\\\\others\\\\normal\\\\HE', '..\\\\data\\\\binary\\\\hiper_others\\\\others\\\\normal\\\\PAMS', '..\\\\data\\\\binary\\\\hiper_others\\\\others\\\\normal\\\\PAS', '..\\\\data\\\\binary\\\\hiper_others\\\\others\\\\normal\\\\PICRO', '..\\\\data\\\\binary\\\\hiper_others\\\\others\\\\sclerosis\\\\sclerosis', '..\\\\data\\\\binary\\\\hiper_others\\\\others\\\\sclerosis\\\\sclerosis_withoutMemb', '..\\\\data\\\\binary\\\\hiper_others\\\\others\\\\sclerosis\\\\sclerosis\\\\HE', '..\\\\data\\\\binary\\\\hiper_others\\\\others\\\\sclerosis\\\\sclerosis\\\\PAMS', '..\\\\data\\\\binary\\\\hiper_others\\\\others\\\\sclerosis\\\\sclerosis\\\\PAS', '..\\\\data\\\\binary\\\\hiper_others\\\\others\\\\sclerosis\\\\sclerosis_withoutMemb\\\\AZAN', '..\\\\data\\\\binary\\\\hiper_others\\\\others\\\\sclerosis\\\\sclerosis_withoutMemb\\\\HE', '..\\\\data\\\\binary\\\\hiper_others\\\\others\\\\sclerosis\\\\sclerosis_withoutMemb\\\\PAMS', '..\\\\data\\\\binary\\\\hiper_others\\\\others\\\\sclerosis\\\\sclerosis_withoutMemb\\\\PAS', '..\\\\data\\\\binary\\\\hiper_others\\\\others\\\\sclerosis\\\\sclerosis_withoutMemb\\\\PS']\n"
     ]
    }
   ],
   "source": [
    "for key in params.keys():\n",
    "    print(f'{key}: {params[key]}')"
   ]
  },
  {
   "cell_type": "code",
   "execution_count": 23,
   "metadata": {},
   "outputs": [
    {
     "data": {
      "text/plain": [
       "{'project': 'sex-estimation',\n",
       " 'entity': 'ivision-radiographs',\n",
       " 'seed': 42,\n",
       " 'num_workers': 0,\n",
       " 'batch_size': 128,\n",
       " 'pin_memory': True,\n",
       " 'load_model': False,\n",
       " 'checkpoint_to_be_loaded': './artifacts/model/my_checkpoint.pth.tar',\n",
       " 'learning_rate': '1e-4',\n",
       " 'num_epochs': 100,\n",
       " 'wandb_on': False,\n",
       " 'model_name': 'hiper_normal',\n",
       " 'data_dir': './data/binary/hiper_normal/'}"
      ]
     },
     "execution_count": 23,
     "metadata": {},
     "output_type": "execute_result"
    }
   ],
   "source": [
    "params"
   ]
  },
  {
   "cell_type": "code",
   "execution_count": 25,
   "metadata": {},
   "outputs": [],
   "source": [
    "a, a, _, _ = 4, 5, 3, 5"
   ]
  }
 ],
 "metadata": {
  "kernelspec": {
   "display_name": "Python 3",
   "language": "python",
   "name": "python3"
  },
  "language_info": {
   "codemirror_mode": {
    "name": "ipython",
    "version": 3
   },
   "file_extension": ".py",
   "mimetype": "text/x-python",
   "name": "python",
   "nbconvert_exporter": "python",
   "pygments_lexer": "ipython3",
   "version": "3.10.4"
  },
  "orig_nbformat": 4
 },
 "nbformat": 4,
 "nbformat_minor": 2
}
