{
 "cells": [
  {
   "cell_type": "code",
   "execution_count": 4,
   "metadata": {},
   "outputs": [],
   "source": [
    "import sys\n",
    "import os\n",
    "sys.path.append('..')"
   ]
  },
  {
   "cell_type": "code",
   "execution_count": 8,
   "metadata": {},
   "outputs": [],
   "source": [
    "from src.dataset import ImageDataLoader\n",
    "from src import config \n",
    "# from src.utils import get_balanced_dataset_sampler, get_train_transform, get_test_transform\n",
    "from sklearn.model_selection import StratifiedKFold\n",
    "from torch.utils.data import DataLoader, Subset\n",
    "import torch\n",
    "from src.metrics import Metrics\n",
    "from pathlib import Path"
   ]
  },
  {
   "cell_type": "code",
   "execution_count": 24,
   "metadata": {},
   "outputs": [
    {
     "name": "stdout",
     "output_type": "stream",
     "text": [
      "2780\n",
      "2829\n",
      "409\n",
      "994\n"
     ]
    }
   ],
   "source": [
    "skfold = StratifiedKFold(n_splits=5, shuffle=True)\n",
    "data_loader = ImageDataLoader('../data/binary/hiper_outros/')\n",
    "binary_labels = [sample[1] for sample in data_loader.dataset.samples]\n",
    "for fold, (train_ids, test_ids) in enumerate(skfold.split(data_loader.dataset, binary_labels)):\n",
    "\n",
    "    train_subset = Subset(data_loader.dataset, train_ids)\n",
    "    train_subset.transform = get_train_transform()\n",
    "    sampler = get_balanced_dataset_sampler(data_loader, train_ids, train_subset)\n",
    "    train_loader = DataLoader(train_subset, batch_size=config.BATCH_SIZE, sampler=sampler, num_workers=config.NUM_WORKERS)\n",
    "\n",
    "    test_subset = Subset(data_loader.dataset, test_ids) \n",
    "    test_subset.transform = get_test_transform()\n",
    "    val_loader = DataLoader(test_subset, batch_size=config.BATCH_SIZE, num_workers=config.NUM_WORKERS, shuffle=True )\n",
    "    num_hiperceluraridade = 0\n",
    "    num_others = 0\n",
    "    \n",
    "    for epoch in range(1):\n",
    "        for data, labels in train_loader:\n",
    "            num_hiperceluraridade += torch.sum(labels == 0)\n",
    "            num_others += torch.sum(labels == 1)\n",
    "\n",
    "    print(num_hiperceluraridade.item())\n",
    "    print(num_others.item())\n",
    "    \n",
    "    num_hiperceluraridade = 0\n",
    "    num_others = 0\n",
    "    for epoch in range(1):\n",
    "        for data, labels in val_loader:\n",
    "            num_hiperceluraridade += torch.sum(labels == 0)\n",
    "            num_others += torch.sum(labels == 1)\n",
    "\n",
    "    print(num_hiperceluraridade.item())\n",
    "    print(num_others.item())\n",
    "    break"
   ]
  },
  {
   "cell_type": "code",
   "execution_count": 25,
   "metadata": {},
   "outputs": [
    {
     "data": {
      "text/plain": [
       "10182"
      ]
     },
     "execution_count": 25,
     "metadata": {},
     "output_type": "execute_result"
    }
   ],
   "source": [
    "\n",
    "2043 + 1570+ 4778 + 1791"
   ]
  },
  {
   "cell_type": "code",
   "execution_count": 26,
   "metadata": {},
   "outputs": [
    {
     "data": {
      "text/plain": [
       "7012"
      ]
     },
     "execution_count": 26,
     "metadata": {},
     "output_type": "execute_result"
    }
   ],
   "source": [
    "2780 + \\\n",
    "2829 + \\\n",
    "409 + \\\n",
    "994"
   ]
  },
  {
   "cell_type": "code",
   "execution_count": 3,
   "metadata": {},
   "outputs": [
    {
     "ename": "NameError",
     "evalue": "name 'Metrics' is not defined",
     "output_type": "error",
     "traceback": [
      "\u001b[1;31m---------------------------------------------------------------------------\u001b[0m",
      "\u001b[1;31mNameError\u001b[0m                                 Traceback (most recent call last)",
      "\u001b[1;32mc:\\Users\\Maods\\Documents\\Development\\Mestrado\\terumo\\apps\\terumo-model-binary-glomerulus-hypercellularity\\notebooks\\dataset.ipynb Cell 6\u001b[0m in \u001b[0;36m1\n\u001b[1;32m----> <a href='vscode-notebook-cell:/c%3A/Users/Maods/Documents/Development/Mestrado/terumo/apps/terumo-model-binary-glomerulus-hypercellularity/notebooks/dataset.ipynb#W5sZmlsZQ%3D%3D?line=0'>1</a>\u001b[0m metrics_result \u001b[39m=\u001b[39m Metrics()\u001b[39m.\u001b[39mcompute_metrics([\u001b[39m1\u001b[39m,\u001b[39m0\u001b[39m,\u001b[39m1\u001b[39m,\u001b[39m0\u001b[39m], [\u001b[39m1\u001b[39m,\u001b[39m0\u001b[39m,\u001b[39m1\u001b[39m,\u001b[39m1\u001b[39m])\n",
      "\u001b[1;31mNameError\u001b[0m: name 'Metrics' is not defined"
     ]
    }
   ],
   "source": [
    "metrics_result = Metrics().compute_metrics([1,0,1,0], [1,0,1,1])"
   ]
  },
  {
   "cell_type": "code",
   "execution_count": 14,
   "metadata": {},
   "outputs": [
    {
     "name": "stdout",
     "output_type": "stream",
     "text": [
      "..\\data\\binary\\sclero_others\\others\n",
      "..\\data\\binary\\sclero_others\\_sclerosis\n",
      "..\\data\\binary\\sclero_others\\others\\hipercellularity\n",
      "..\\data\\binary\\sclero_others\\others\\membranous\n",
      "..\\data\\binary\\sclero_others\\others\\normal\n",
      "..\\data\\binary\\sclero_others\\others\\hipercellularity\\AZAN\n",
      "..\\data\\binary\\sclero_others\\others\\hipercellularity\\HE\n",
      "..\\data\\binary\\sclero_others\\others\\hipercellularity\\PAS\n",
      "..\\data\\binary\\sclero_others\\others\\hipercellularity\\PS\n",
      "..\\data\\binary\\sclero_others\\others\\membranous\\primary_membranous\n",
      "..\\data\\binary\\sclero_others\\others\\membranous\\primary_membranous\\AZAN\n",
      "..\\data\\binary\\sclero_others\\others\\membranous\\primary_membranous\\HE\n",
      "..\\data\\binary\\sclero_others\\others\\membranous\\primary_membranous\\PAMS\n",
      "..\\data\\binary\\sclero_others\\others\\membranous\\primary_membranous\\PAS\n",
      "..\\data\\binary\\sclero_others\\others\\membranous\\primary_membranous\\PICRO\n",
      "..\\data\\binary\\sclero_others\\others\\normal\\AZAN\n",
      "..\\data\\binary\\sclero_others\\others\\normal\\HE\n",
      "..\\data\\binary\\sclero_others\\others\\normal\\PAMS\n",
      "..\\data\\binary\\sclero_others\\others\\normal\\PAS\n",
      "..\\data\\binary\\sclero_others\\others\\normal\\PICRO\n",
      "..\\data\\binary\\sclero_others\\_sclerosis\\sclerosis\n",
      "..\\data\\binary\\sclero_others\\_sclerosis\\sclerosis_withoutMemb\n",
      "..\\data\\binary\\sclero_others\\_sclerosis\\sclerosis\\HE\n",
      "..\\data\\binary\\sclero_others\\_sclerosis\\sclerosis\\PAMS\n",
      "..\\data\\binary\\sclero_others\\_sclerosis\\sclerosis\\PAS\n",
      "..\\data\\binary\\sclero_others\\_sclerosis\\sclerosis_withoutMemb\\AZAN\n",
      "..\\data\\binary\\sclero_others\\_sclerosis\\sclerosis_withoutMemb\\HE\n",
      "..\\data\\binary\\sclero_others\\_sclerosis\\sclerosis_withoutMemb\\PAMS\n",
      "..\\data\\binary\\sclero_others\\_sclerosis\\sclerosis_withoutMemb\\PAS\n",
      "..\\data\\binary\\sclero_others\\_sclerosis\\sclerosis_withoutMemb\\PS\n"
     ]
    }
   ],
   "source": [
    "def get_subfolder_paths(directory):\n",
    "    directory = Path(directory)\n",
    "    subfolder_paths = []\n",
    "    \n",
    "    for path in directory.rglob('*'):\n",
    "        if path.is_dir():\n",
    "            subfolder_paths.append(path)\n",
    "    \n",
    "    return subfolder_paths\n",
    "\n",
    "# Example usage\n",
    "directory_path = '../data/binary/sclero_others/'\n",
    "subfolders = get_subfolder_paths(directory_path)\n",
    "\n",
    "# Print the subfolder paths\n",
    "for subfolder in subfolders:\n",
    "    print(subfolder)"
   ]
  },
  {
   "cell_type": "code",
   "execution_count": null,
   "metadata": {},
   "outputs": [],
   "source": []
  }
 ],
 "metadata": {
  "kernelspec": {
   "display_name": "Python 3",
   "language": "python",
   "name": "python3"
  },
  "language_info": {
   "codemirror_mode": {
    "name": "ipython",
    "version": 3
   },
   "file_extension": ".py",
   "mimetype": "text/x-python",
   "name": "python",
   "nbconvert_exporter": "python",
   "pygments_lexer": "ipython3",
   "version": "3.10.4"
  },
  "orig_nbformat": 4
 },
 "nbformat": 4,
 "nbformat_minor": 2
}
